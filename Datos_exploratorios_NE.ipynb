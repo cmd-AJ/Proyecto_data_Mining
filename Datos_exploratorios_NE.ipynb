{
 "cells": [
  {
   "cell_type": "markdown",
   "metadata": {},
   "source": [
    "# Analisis Exploratorio\n",
    "## Laboratorio 1 - Mineria de Datos\n",
    "### Nelson Escalante - 22046"
   ]
  },
  {
   "cell_type": "markdown",
   "metadata": {},
   "source": [
    "# SETUP\n",
    "\n",
    "Preparacion del entorno de trabajo."
   ]
  },
  {
   "cell_type": "code",
   "execution_count": 3,
   "metadata": {},
   "outputs": [],
   "source": [
    "#importar pandas\n",
    "import pandas as pd\n",
    "\n",
    "#convertir los datos de movies.csv en un dataframe para trabajar\n",
    "path = \"movies.csv\"\n",
    "moviesdf = pd.read_csv(path, encoding='latin_1')"
   ]
  },
  {
   "cell_type": "markdown",
   "metadata": {},
   "source": [
    "# SECCION 1\n",
    "\n",
    "Haga una exploración rápida de sus datos, para eso haga un resumen de su conjunto de datos."
   ]
  },
  {
   "cell_type": "code",
   "execution_count": 4,
   "metadata": {},
   "outputs": [
    {
     "name": "stdout",
     "output_type": "stream",
     "text": [
      "<class 'pandas.core.frame.DataFrame'>\n",
      "RangeIndex: 10000 entries, 0 to 9999\n",
      "Data columns (total 27 columns):\n",
      " #   Column                     Non-Null Count  Dtype  \n",
      "---  ------                     --------------  -----  \n",
      " 0   id                         10000 non-null  int64  \n",
      " 1   budget                     10000 non-null  int64  \n",
      " 2   genres                     9947 non-null   object \n",
      " 3   homePage                   4193 non-null   object \n",
      " 4   productionCompany          9543 non-null   object \n",
      " 5   productionCompanyCountry   8720 non-null   object \n",
      " 6   productionCountry          9767 non-null   object \n",
      " 7   revenue                    10000 non-null  float64\n",
      " 8   runtime                    10000 non-null  int64  \n",
      " 9   video                      9514 non-null   object \n",
      " 10  director                   9926 non-null   object \n",
      " 11  actors                     9920 non-null   object \n",
      " 12  actorsPopularity           9913 non-null   object \n",
      " 13  actorsCharacter            9953 non-null   object \n",
      " 14  originalTitle              10000 non-null  object \n",
      " 15  title                      10000 non-null  object \n",
      " 16  originalLanguage           10000 non-null  object \n",
      " 17  popularity                 10000 non-null  float64\n",
      " 18  releaseDate                10000 non-null  object \n",
      " 19  voteAvg                    10000 non-null  float64\n",
      " 20  voteCount                  10000 non-null  int64  \n",
      " 21  genresAmount               10000 non-null  int64  \n",
      " 22  productionCoAmount         10000 non-null  int64  \n",
      " 23  productionCountriesAmount  10000 non-null  int64  \n",
      " 24  actorsAmount               10000 non-null  int64  \n",
      " 25  castWomenAmount            10000 non-null  object \n",
      " 26  castMenAmount              10000 non-null  object \n",
      "dtypes: float64(3), int64(8), object(16)\n",
      "memory usage: 2.1+ MB\n"
     ]
    }
   ],
   "source": [
    "moviesdf.info(verbose=True)"
   ]
  },
  {
   "cell_type": "markdown",
   "metadata": {},
   "source": [
    "# SECCION 2\n",
    "\n",
    "Diga el tipo de cada una de las variables (cualitativa ordinal o nominal, cuantitativa continua, cuantitativa discreta)"
   ]
  },
  {
   "cell_type": "markdown",
   "metadata": {},
   "source": [
    "En base a la informacion obtenida en la seccion anterior, podemos describir los tipos de variables de la siguiente manera:\n",
    "\n",
    "- id: cualitativa ordinal\n",
    "- budget: cuantitativa continua\n",
    "- homePage: cualitativa nominal\n",
    "- productionCompany: cualitativa nominal\n",
    "- productionCompanyCountry: cualitativa nominal\n",
    "- productionCountry: cualitativa nominal\n",
    "- revenue: cuantitativa continua\n",
    "- runtime: cuantitativa continua\n",
    "- video: cualitativa binaria\n",
    "- director: cualitativa nominal\n",
    "- actors: cualitativa nominal\n",
    "- actorsPopularity: cualitativa ordinal\n",
    "- actorsCharacter: cualitativa nominal\n",
    "- originalTitle: cualitativa nominal\n",
    "- title: cualitativa nominal\n",
    "- originalLanguage: cualitativa nominal\n",
    "- popularity: cuantitativa continua\n",
    "- releaseDate: cualitativa nominal\n",
    "- voteAvg: cuantitativa continua\n",
    "- voteCount: cuantitativa discreta\n",
    "- genresAmount: cuantitativa discreta\n",
    "- productionCoAmount: cuantitativa discreta\n",
    "- productionCountriesAmount: cuantitativa discreta\n",
    "- actorsAmount: cuantitativa discreta\n",
    "- castWomenAmount: cuantitativa discreta\n",
    "- castMenAmount: cuantitativa discreta"
   ]
  },
  {
   "cell_type": "code",
   "execution_count": null,
   "metadata": {},
   "outputs": [],
   "source": []
  }
 ],
 "metadata": {
  "kernelspec": {
   "display_name": "Python 3",
   "language": "python",
   "name": "python3"
  },
  "language_info": {
   "codemirror_mode": {
    "name": "ipython",
    "version": 3
   },
   "file_extension": ".py",
   "mimetype": "text/x-python",
   "name": "python",
   "nbconvert_exporter": "python",
   "pygments_lexer": "ipython3",
   "version": "3.12.8"
  }
 },
 "nbformat": 4,
 "nbformat_minor": 2
}
